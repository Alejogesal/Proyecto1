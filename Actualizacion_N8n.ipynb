{
  "nbformat": 4,
  "nbformat_minor": 0,
  "metadata": {
    "colab": {
      "provenance": [],
      "authorship_tag": "ABX9TyM4z1z5/h/Z8xkAYIsqHSMs",
      "include_colab_link": true
    },
    "kernelspec": {
      "name": "python3",
      "display_name": "Python 3"
    },
    "language_info": {
      "name": "python"
    }
  },
  "cells": [
    {
      "cell_type": "markdown",
      "metadata": {
        "id": "view-in-github",
        "colab_type": "text"
      },
      "source": [
        "<a href=\"https://colab.research.google.com/github/Alejogesal/Proyecto1/blob/main/Actualizacion_N8n.ipynb\" target=\"_parent\"><img src=\"https://colab.research.google.com/assets/colab-badge.svg\" alt=\"Open In Colab\"/></a>"
      ]
    },
    {
      "cell_type": "markdown",
      "source": [
        "**Cómo crear una instancia de n8n a partir de una instantánea, actualizar su versión y realizar una copia de seguridad mediante instantáneas**"
      ],
      "metadata": {
        "id": "3k6Hbu4TNYzk"
      }
    },
    {
      "cell_type": "markdown",
      "source": [
        "Esta guía proporciona instrucciones paso a paso para crear una instancia confiable de n8n, actualizar su versión y proteger sus datos mediante instantáneas. Siga cada paso con atención para garantizar un proceso sin inconvenientes."
      ],
      "metadata": {
        "id": "y-_ufoYsNamQ"
      }
    },
    {
      "cell_type": "markdown",
      "source": [
        "**Documentación**"
      ],
      "metadata": {
        "id": "Fxil8i3RNhvH"
      }
    },
    {
      "cell_type": "markdown",
      "source": [
        "Para mayor referencia, consulte la documentación oficial: https://docs.n8n.io/hosting/installation/docker/#updating"
      ],
      "metadata": {
        "id": "zM2e5aIQNlWh"
      }
    },
    {
      "cell_type": "markdown",
      "source": [
        "1. Agregue su usuario al grupo Docker\n",
        "Para ejecutar comandos Docker sin sudo:"
      ],
      "metadata": {
        "id": "-SC9SUP3NnWa"
      }
    },
    {
      "cell_type": "code",
      "source": [
        "whoami"
      ],
      "metadata": {
        "id": "Fx_NCVV9NsoZ"
      },
      "execution_count": null,
      "outputs": []
    },
    {
      "cell_type": "markdown",
      "source": [
        "Te va a dar nombre de user"
      ],
      "metadata": {
        "id": "UM_09yzUNvv4"
      }
    },
    {
      "cell_type": "code",
      "source": [
        "sudo usermod -aG docker USER"
      ],
      "metadata": {
        "id": "ES5XMuPENyA0"
      },
      "execution_count": null,
      "outputs": []
    },
    {
      "cell_type": "markdown",
      "source": [
        "Cierre sesión y vuelva a iniciarla para que los cambios surtan efecto:"
      ],
      "metadata": {
        "id": "2Dfq6b_DN3E3"
      }
    },
    {
      "cell_type": "code",
      "source": [
        "exit"
      ],
      "metadata": {
        "id": "kgUFjUP0N6hQ"
      },
      "execution_count": null,
      "outputs": []
    },
    {
      "cell_type": "markdown",
      "source": [
        "2. Verifique la versión actual de **n8n**\n",
        "Verifique la versión n8n que se ejecuta dentro del contenedor:"
      ],
      "metadata": {
        "id": "tXGbD5GGN8VZ"
      }
    },
    {
      "cell_type": "code",
      "source": [
        "docker exec -it n8n n8n --version"
      ],
      "metadata": {
        "id": "iCCvLXSTOFZN"
      },
      "execution_count": null,
      "outputs": []
    },
    {
      "cell_type": "markdown",
      "source": [
        "3. Inspeccione el contenedor para encontrar el montaje y el directorio correcto\n",
        "Ejecute el siguiente comando para inspeccionar el contenedor n8n y localizar el punto de montaje correcto:"
      ],
      "metadata": {
        "id": "VCu3VyPvOHIq"
      }
    },
    {
      "cell_type": "code",
      "source": [
        "docker inspect n8n"
      ],
      "metadata": {
        "id": "cas-zbPiOK5t"
      },
      "execution_count": null,
      "outputs": []
    },
    {
      "cell_type": "markdown",
      "source": [
        "4. Actualizar el nombre de dominio (si ha cambiado)\n",
        "Si el nombre de dominio de su instancia n8n ha cambiado, actualice su configuración de Nginx:"
      ],
      "metadata": {
        "id": "THRvEuS-OMvw"
      }
    },
    {
      "cell_type": "code",
      "source": [
        "sudo nano /etc/nginx/sites-available/n8n"
      ],
      "metadata": {
        "id": "aNddSxE7OTWq"
      },
      "execution_count": null,
      "outputs": []
    },
    {
      "cell_type": "markdown",
      "source": [
        "Guarde los cambios con Ctrl + O, presione Entery luego salga con Ctrl + X."
      ],
      "metadata": {
        "id": "Weep7BjJOX8L"
      }
    },
    {
      "cell_type": "markdown",
      "source": [
        "5. Verificar el ID del contenedor\n",
        "Enumere todos los contenedores para obtener el ID de contenedor correcto:"
      ],
      "metadata": {
        "id": "uKmI779EOYvu"
      }
    },
    {
      "cell_type": "code",
      "source": [
        "docker ps -a"
      ],
      "metadata": {
        "id": "llTycT5cOcOV"
      },
      "execution_count": null,
      "outputs": []
    },
    {
      "cell_type": "markdown",
      "source": [
        "6. Copia de seguridad de los archivos de configuración desde el contenedor\n",
        "Acceda al contenedor y enumere los archivos de configuración:"
      ],
      "metadata": {
        "id": "ustAv3onOf5z"
      }
    },
    {
      "cell_type": "code",
      "source": [
        "docker exec -it --user node n8n sh\n",
        "ls -la /home/node/.n8n"
      ],
      "metadata": {
        "id": "5nQ0gIcAOixR"
      },
      "execution_count": null,
      "outputs": []
    },
    {
      "cell_type": "markdown",
      "source": [
        "Salir del contenedor:\n",
        "\n"
      ],
      "metadata": {
        "id": "xEuQbg5xOk-Q"
      }
    },
    {
      "cell_type": "code",
      "source": [
        "exit"
      ],
      "metadata": {
        "id": "GezCkbmpOm6O"
      },
      "execution_count": null,
      "outputs": []
    },
    {
      "cell_type": "markdown",
      "source": [
        "Realice una copia de seguridad de los archivos de configuración en su máquina local:"
      ],
      "metadata": {
        "id": "4zaXDnueOocy"
      }
    },
    {
      "cell_type": "code",
      "source": [
        "docker cp <container_id>:/home/node/.n8n ./n8n_backup"
      ],
      "metadata": {
        "id": "wvC5YkxgOqRz"
      },
      "execution_count": null,
      "outputs": []
    },
    {
      "cell_type": "markdown",
      "source": [
        "Verifique el archivo de respaldo en su máquina local:"
      ],
      "metadata": {
        "id": "Heg9ZqX6OtiE"
      }
    },
    {
      "cell_type": "code",
      "source": [
        "ls -la ./n8n_backup"
      ],
      "metadata": {
        "id": "UT6WvHEgOvQP"
      },
      "execution_count": null,
      "outputs": []
    },
    {
      "cell_type": "markdown",
      "source": [
        "7. Actualizar n8n a una versión específica\n",
        "Extraiga la versión deseada de la imagen Docker n8n:\n",
        "\n"
      ],
      "metadata": {
        "id": "c-UghNayOxfg"
      }
    },
    {
      "cell_type": "code",
      "source": [
        "docker pull docker.n8n.io/n8nio/n8n:'VERSION'"
      ],
      "metadata": {
        "id": "qwcEOEHqOzs_"
      },
      "execution_count": null,
      "outputs": []
    },
    {
      "cell_type": "markdown",
      "source": [
        "8. Detener y retirar el contenedor existente\n",
        "Detener y retirar el contenedor viejo:"
      ],
      "metadata": {
        "id": "mA8lMvb2O6g0"
      }
    },
    {
      "cell_type": "code",
      "source": [
        "docker stop <container_id> se pone 'n8n'\n",
        "docker rm <container_id> se pone 'n8n'"
      ],
      "metadata": {
        "id": "tcskWGMDPGj2"
      },
      "execution_count": null,
      "outputs": []
    },
    {
      "cell_type": "markdown",
      "source": [
        "9. Cree un volumen Docker para datos persistentes9.\n",
        "Cree un volumen Docker para datos persistentes"
      ],
      "metadata": {
        "id": "5UvdwpLwRD5x"
      }
    },
    {
      "cell_type": "code",
      "source": [
        "docker volume create n8n_data"
      ],
      "metadata": {
        "id": "bbHkZvEuRI-z"
      },
      "execution_count": null,
      "outputs": []
    },
    {
      "cell_type": "markdown",
      "source": [
        "Copiar los datos de respaldo en el nuevo volumen:\n",
        "\n"
      ],
      "metadata": {
        "id": "ci1z5KzJRJsU"
      }
    },
    {
      "cell_type": "code",
      "source": [
        "docker run --rm -v n8n_data:/data -v $(pwd)/n8n_backup:/backup busybox sh -c \"cp -r /backup/* /data/\""
      ],
      "metadata": {
        "id": "4iLIG1buRKv-"
      },
      "execution_count": null,
      "outputs": []
    },
    {
      "cell_type": "markdown",
      "source": [
        "Inspeccione el volumen para confirmar los datos:\n",
        "\n"
      ],
      "metadata": {
        "id": "siOxJefaRNUQ"
      }
    },
    {
      "cell_type": "code",
      "source": [
        "docker volume inspect n8n_data"
      ],
      "metadata": {
        "id": "9dAk_6QHROBk"
      },
      "execution_count": null,
      "outputs": []
    },
    {
      "cell_type": "markdown",
      "source": [
        "10. Ajustar los permisos para el volumen\n",
        "Asegúrese de que el nodeusuario dentro del contenedor tenga los permisos adecuados:\n",
        "\n"
      ],
      "metadata": {
        "id": "pcwwiT2ORP-s"
      }
    },
    {
      "cell_type": "code",
      "source": [
        "sudo chown -R 1000:1000 /var/lib/docker/volumes/n8n_data/_data\n",
        "sudo chmod -R 700 /var/lib/docker/volumes/n8n_data/_data"
      ],
      "metadata": {
        "id": "NjPdFBvkRSXa"
      },
      "execution_count": null,
      "outputs": []
    },
    {
      "cell_type": "markdown",
      "source": [
        "11. Cree un nuevo contenedor n8n con los datos restaurados\n",
        "Ejecute un nuevo contenedor n8n con los datos restaurados \"n8n_data\" y la versión actualizada:\n",
        "\n"
      ],
      "metadata": {
        "id": "wl6IJNCsRT5U"
      }
    },
    {
      "cell_type": "code",
      "source": [
        "docker run -d --restart unless-stopped \\\n",
        "--name n8n \\\n",
        "-p 5678:5678 \\\n",
        "-e N8N_HOST=\"your-domain.com\" \\\n",
        "-e WEBHOOK_TUNNEL_URL=\"https://your-domain.com/\" \\\n",
        "-e WEBHOOK_URL=\"https://your-domain.com/\" \\\n",
        "-v n8n_data:/home/node/.n8n \\  # here is where we mount n8n_data\n",
        "n8nio/n8n:'version' # we call the latest stable version"
      ],
      "metadata": {
        "id": "l2iuFwVQRWQd"
      },
      "execution_count": null,
      "outputs": []
    },
    {
      "cell_type": "markdown",
      "source": [
        "12. Verificar los datos de respaldo en el contenedor\n",
        "Inicie el contenedor y verifique que los datos se hayan restaurado correctamente:\n",
        "\n"
      ],
      "metadata": {
        "id": "13bJSDi7ReV9"
      }
    },
    {
      "cell_type": "code",
      "source": [
        "docker exec -it --user node n8n sh -c \"ls -la /home/node/.n8n\""
      ],
      "metadata": {
        "id": "4N7SdcNVRgot"
      },
      "execution_count": null,
      "outputs": []
    },
    {
      "cell_type": "markdown",
      "source": [
        "Información adicional importante (de lectura obligatoria)\n",
        "Cómo funcionan los volúmenes persistentes\n",
        "El n8n_datavolumen se almacena fuera del contenedor, lo que garantiza que todos los flujos de trabajo y configuraciones se conserven incluso si el contenedor se detiene o se elimina. Así es como funciona:\n",
        "\n",
        "Los datos permanecen seguros al detener o reiniciar el contenedor :\n",
        "\n",
        "Úselo docker stop n8npara detener la aplicación.\n",
        "Úselo docker start n8npara reiniciarlo y sus datos permanecerán intactos.\n",
        "El volumen persiste más allá de la eliminación del contenedor :\n",
        "\n",
        "Si elimina el contenedor con docker rm n8n, los datos del n8n_datavolumen permanecerán seguros.\n",
        "Puede reutilizar el volumen asignándolo a un nuevo contenedor:"
      ],
      "metadata": {
        "id": "2J5ZahsRRiLM"
      }
    },
    {
      "cell_type": "code",
      "source": [
        "docker run -d --restart unless-stopped \\\n",
        "--name n8n \\\n",
        "-p 5678:5678 \\\n",
        "-e N8N_HOST=\"your-domain.com\" \\\n",
        "-e WEBHOOK_TUNNEL_URL=\"https://your-domain.com/\" \\\n",
        "-e WEBHOOK_URL=\"https://your-domain.com/\" \\\n",
        "-v n8n_data:/home/node/.n8n \\  # here is where we mount n8n_data\n",
        "n8nio/n8n:latest # we call the latest stable version"
      ],
      "metadata": {
        "id": "FqAnjr2bRmje"
      },
      "execution_count": null,
      "outputs": []
    },
    {
      "cell_type": "markdown",
      "source": [
        "Al aprovechar los volúmenes de Docker, garantiza que su instancia n8n siga siendo resistente y que sus datos estén seguros durante actualizaciones o cambios de contenedores."
      ],
      "metadata": {
        "id": "jZx72sKnRqAy"
      }
    }
  ]
}